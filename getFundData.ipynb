{
 "nbformat": 4,
 "nbformat_minor": 2,
 "metadata": {
  "language_info": {
   "name": "python",
   "codemirror_mode": {
    "name": "ipython",
    "version": 3
   },
   "version": "3.8.1-final"
  },
  "orig_nbformat": 2,
  "file_extension": ".py",
  "mimetype": "text/x-python",
  "name": "python",
  "npconvert_exporter": "python",
  "pygments_lexer": "ipython3",
  "version": 3,
  "kernelspec": {
   "name": "python38164bitc5455e1b07374458a74f3d4ad42210a9",
   "display_name": "Python 3.8.1 64-bit"
  }
 },
 "cells": [
  {
   "cell_type": "code",
   "execution_count": null,
   "metadata": {},
   "outputs": [],
   "source": [
    "import requests\n",
    "\n",
    "fundListUrl = 'http://fund.eastmoney.com/js/fundcode_search.js'\n",
    "fundCompanyUrl = 'http://fund.eastmoney.com/js/jjjz_gs.js?dt=1463791574015'\n",
    "\n",
    "fundListStr = requests.get(fundListUrl).content.decode('utf-8').strip('\\ufeffvar r = ').strip(';')\n"
   ]
  },
  {
   "cell_type": "code",
   "execution_count": null,
   "metadata": {},
   "outputs": [],
   "source": [
    "import json\n",
    "fundList = "
   ]
  },
  {
   "cell_type": "code",
   "execution_count": null,
   "metadata": {},
   "outputs": [],
   "source": [
    "fundList = fundList.content.decode('utf-8').strip('var r = ')"
   ]
  },
  {
   "cell_type": "code",
   "execution_count": null,
   "metadata": {},
   "outputs": [],
   "source": [
    "fundList = fundList.strip('\\ufeffvar r = ').strip(';')"
   ]
  },
  {
   "cell_type": "code",
   "execution_count": null,
   "metadata": {},
   "outputs": [],
   "source": [
    "import json\n",
    "fundList = json.loads(fundList)"
   ]
  },
  {
   "cell_type": "code",
   "execution_count": null,
   "metadata": {},
   "outputs": [],
   "source": [
    "fundList[0]"
   ]
  },
  {
   "cell_type": "code",
   "execution_count": null,
   "metadata": {},
   "outputs": [],
   "source": [
    "fundCompanyUrl = 'http://fund.eastmoney.com/js/jjjz_gs.js?dt=1463791574015'\n",
    "temp = requests.get(fundCompanyUrl).content.decode('utf-8').strip('\\ufeffvar gs={op:').strip('};')"
   ]
  },
  {
   "cell_type": "code",
   "execution_count": null,
   "metadata": {},
   "outputs": [],
   "source": [
    "fundCompanyList = json.loads(temp)"
   ]
  },
  {
   "cell_type": "code",
   "execution_count": null,
   "metadata": {},
   "outputs": [],
   "source": [
    "fundCompanyList[100]"
   ]
  },
  {
   "cell_type": "code",
   "execution_count": 57,
   "metadata": {},
   "outputs": [
    {
     "ename": "FileNotFoundError",
     "evalue": "[Errno 2] No such file or directory: 'test.js'",
     "output_type": "error",
     "traceback": [
      "\u001b[0;31m---------------------------------------------------------------------------\u001b[0m",
      "\u001b[0;31mFileNotFoundError\u001b[0m                         Traceback (most recent call last)",
      "\u001b[0;32m<ipython-input-57-31c5fd78a3b7>\u001b[0m in \u001b[0;36m<module>\u001b[0;34m\u001b[0m\n\u001b[1;32m      1\u001b[0m \u001b[0murl\u001b[0m \u001b[0;34m=\u001b[0m \u001b[0;34m'http://fund.eastmoney.com/pingzhongdata/001186.js?v=20160518155842'\u001b[0m\u001b[0;34m\u001b[0m\u001b[0;34m\u001b[0m\u001b[0m\n\u001b[1;32m      2\u001b[0m \u001b[0mdata\u001b[0m\u001b[0;34m=\u001b[0m\u001b[0mrequests\u001b[0m\u001b[0;34m.\u001b[0m\u001b[0mget\u001b[0m\u001b[0;34m(\u001b[0m\u001b[0murl\u001b[0m\u001b[0;34m)\u001b[0m\u001b[0;34m.\u001b[0m\u001b[0mcontent\u001b[0m\u001b[0;34m.\u001b[0m\u001b[0mdecode\u001b[0m\u001b[0;34m(\u001b[0m\u001b[0;34m'utf-8'\u001b[0m\u001b[0;34m)\u001b[0m\u001b[0;34m\u001b[0m\u001b[0;34m\u001b[0m\u001b[0m\n\u001b[0;32m----> 3\u001b[0;31m \u001b[0;32mwith\u001b[0m \u001b[0mopen\u001b[0m\u001b[0;34m(\u001b[0m\u001b[0;34m'test.js'\u001b[0m\u001b[0;34m)\u001b[0m \u001b[0;32mas\u001b[0m \u001b[0mf\u001b[0m\u001b[0;34m:\u001b[0m\u001b[0;34m\u001b[0m\u001b[0;34m\u001b[0m\u001b[0m\n\u001b[0m\u001b[1;32m      4\u001b[0m     \u001b[0mf\u001b[0m\u001b[0;34m.\u001b[0m\u001b[0mwrite\u001b[0m\u001b[0;34m(\u001b[0m\u001b[0mdata\u001b[0m\u001b[0;34m)\u001b[0m\u001b[0;34m\u001b[0m\u001b[0;34m\u001b[0m\u001b[0m\n",
      "\u001b[0;31mFileNotFoundError\u001b[0m: [Errno 2] No such file or directory: 'test.js'"
     ]
    }
   ],
   "source": [
    "url = 'http://fund.eastmoney.com/pingzhongdata/001186.js?v=20160518155842'\n",
    "data=requests.get(url).content.decode('utf-8')\n",
    "with open('test.js') as f:\n",
    "    f.write(data)"
   ]
  },
  {
   "cell_type": "code",
   "execution_count": 51,
   "metadata": {},
   "outputs": [
    {
     "data": {
      "text/plain": "'jsonpgz({\"fundcode\":\"001186\",\"name\":\"富国文体健康股票\",\"jzrq\":\"2020-02-28\",\"dwjz\":\"1.3100\",\"gsz\":\"1.3589\",\"gszzl\":\"3.73\",\"gztime\":\"2020-03-02 15:00\"});'"
     },
     "execution_count": 51,
     "metadata": {},
     "output_type": "execute_result"
    }
   ],
   "source": [
    "url='http://fundgz.1234567.com.cn/js/001186.js?rt=1463558676006'\n",
    "data=requests.get(url).content.decode('utf-8')\n",
    "data"
   ]
  },
  {
   "cell_type": "code",
   "execution_count": 49,
   "metadata": {},
   "outputs": [
    {
     "data": {
      "text/plain": "'\\ufeff/** * 测试数据 * @type {arry} *//*2020-03-02 18:51:36*/var ishb=false;/*基金或股票信息*/var fS_name = \"富国文体健康股票\";var fS_code = \"001186\";/*原费率*/var fund_sourceRate=\"1.50\";/*现费率*/var fund_Rate=\"0.15\";/*最小申购金额*/var fund_minsg=\"100\";/*基金持仓股票代码*/var stockCodes=[\"0026432\",\"0000012\",\"3002852\",\"6008871\",\"0020012\",\"0025552\",\"3000032\",\"6008621\",\"6035791\",\"6000301\"];/*基金持仓债券代码*/var zqCodes = \"\";/*基金持仓股票代码(新市场号)*/var stockCodesNew =[\"0.002643\",\"0.000001\",\"0.300285\",\"1.600887\",\"0.002001\",\"0.002555\",\"0.300003\",\"1.600862\",\"1.603579\",\"1.600030\"];/*基金持仓债券代码（新市场号）*/var zqCodesNew = \"\";/*收益率*//*近一年收益率*/var syl_1n=\"39.2136\";/*近6月收益率*/var syl_6y=\"23.2361\";/*近三月收益率*/var syl_3y=\"17.0688\";/*近一月收益率*/var syl_1y=\"5.3902\";/*股票仓位测算图*/var Data_fundSharesPositions = [[1580659200000,95.00],[1580745600000,95.00],[1580832000000,95.00],[1580918400000,99.8900],[1581004800000,98.3500],[1581264000000,95.00],[1581350400000,95.00],[1581436800000,95.00],[1581523200000,95.00],[1581609600000,95.00],[1581868800000,95.00],[1581955200000,95'"
     },
     "execution_count": 49,
     "metadata": {},
     "output_type": "execute_result"
    }
   ],
   "source": [
    "data[0:1000]"
   ]
  }
 ]
}